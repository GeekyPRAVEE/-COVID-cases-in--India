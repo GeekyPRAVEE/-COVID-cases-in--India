{
 "cells": [
  {
   "cell_type": "markdown",
   "metadata": {},
   "source": [
    "# programming_fever"
   ]
  },
  {
   "cell_type": "markdown",
   "metadata": {},
   "source": [
    "Corona Virus Live Updates for India – Using Python"
   ]
  },
  {
   "cell_type": "code",
   "execution_count": 20,
   "metadata": {},
   "outputs": [
    {
     "name": "stdout",
     "output_type": "stream",
     "text": [
      "***************live updates of corona virus cases in India using Python***************\n",
      "                               @programming_fever\n",
      "\n",
      "SNo    State                               Indian-Confirmed(Including Foreign Confirmed)  Cured    Death\n",
      "-----  --------------------------------  -----------------------------------------------  -------  -------\n",
      "1      Andaman and Nicobar Islands                                                    33  33       0\n",
      "2      Andhra Pradesh                                                               3110  1896     56\n",
      "3      Arunachal Pradesh                                                               2  1        0\n",
      "4      Assam                                                                         526  62       4\n",
      "5      Bihar                                                                        2730  749      13\n",
      "6      Chandigarh                                                                    238  186      3\n",
      "7      Chhattisgarh                                                                  291  72       0\n",
      "8      Dadar Nagar Haveli                                                              2  0        0\n",
      "9      Delhi                                                                       14053  6771     276\n",
      "10     Goa                                                                            67  19       0\n",
      "11     Gujarat                                                                     14460  6636     888\n",
      "12     Haryana                                                                      1184  765      16\n",
      "13     Himachal Pradesh                                                              223  67       5\n",
      "14     Jammu and Kashmir                                                            1668  809      23\n",
      "15     Jharkhand                                                                     377  148      4\n",
      "16     Karnataka                                                                    2182  705      44\n",
      "17     Kerala                                                                        896  532      5\n",
      "18     Ladakh                                                                         52  43       0\n",
      "19     Madhya Pradesh                                                               6859  3571     300\n",
      "20     Maharashtra                                                                 52667  15786    1695\n",
      "21     Manipur                                                                        39  4        0\n",
      "22     Meghalaya                                                                      14  12       1\n",
      "23     Mizoram                                                                         1  1        0\n",
      "24     Nagaland                                                                        3  0        0\n",
      "25     Odisha                                                                       1438  649      7\n",
      "26     Puducherry                                                                     41  12       0\n",
      "27     Punjab                                                                       2060  1898     40\n",
      "28     Rajasthan                                                                    7300  3951     167\n",
      "29     Sikkim                                                                          1  0        0\n",
      "30     Tamil Nadu                                                                  17082  8731     118\n",
      "31     Telengana                                                                    1920  1164     56\n",
      "32     Tripura                                                                       194  165      0\n",
      "33     Uttarakhand                                                                   349  58       3\n",
      "34     Uttar Pradesh                                                                6532  3581     165\n",
      "35     West Bengal                                                                  3816  1414     278\n",
      "       Cases being reassigned to states                                             2970\n",
      "37     Total Cases                                                                145380  60491    4167\n"
     ]
    }
   ],
   "source": [
    "#programming_fever\n",
    "import requests \n",
    "from bs4 import BeautifulSoup \n",
    "from tabulate import tabulate \n",
    "import os \n",
    "import numpy as np \n",
    "import matplotlib.pyplot as plt \n",
    "extract_contents = lambda row: [x.text.replace('\\n', '') for x in row]  \n",
    "URL = 'https://www.mohfw.gov.in/'\n",
    "    \n",
    "SHORT_HEADERS = ['SNo', 'State','Indian-Confirmed(Including Foreign Confirmed)','Cured','Death']  \n",
    "    \n",
    "response = requests.get(URL).content  \n",
    "soup = BeautifulSoup(response, 'html.parser')  \n",
    "header = extract_contents(soup.tr.find_all('th'))  \n",
    "  \n",
    "stats = []  \n",
    "all_rows = soup.find_all('tr')  \n",
    "  \n",
    "for row in all_rows:  \n",
    "    stat = extract_contents(row.find_all('td'))  \n",
    "     \n",
    "    if stat:  \n",
    "        if len(stat) == 4:  \n",
    "            # last row  \n",
    "            stat = ['', *stat]  \n",
    "            stats.append(stat)  \n",
    "        elif len(stat) == 5:  \n",
    "            stats.append(stat)  \n",
    "  \n",
    "stats[-1][0] = len(stats)  \n",
    "stats[-1][1] = \"Total Cases\"\n",
    "objects = []  \n",
    "for row in stats :  \n",
    "    objects.append(row[1])   \n",
    "    \n",
    "y_pos = np.arange(len(objects))  \n",
    "  \n",
    "performance = []  \n",
    "for row in stats[:len(stats)-1] :  \n",
    "    performance.append(int(row[2]))  \n",
    "  \n",
    "performance.append(int(stats[-1][2][:len(stats[-1][2])-1])) \n",
    "  \n",
    "table = tabulate(stats, headers=SHORT_HEADERS)  \n",
    "print(\"***************live updates of corona virus cases in India using Python***************\")\n",
    "print(\"                               @programming_fever\\n\")\n",
    "print(table)  "
   ]
  },
  {
   "cell_type": "code",
   "execution_count": null,
   "metadata": {},
   "outputs": [],
   "source": []
  },
  {
   "cell_type": "code",
   "execution_count": null,
   "metadata": {},
   "outputs": [],
   "source": []
  },
  {
   "cell_type": "code",
   "execution_count": null,
   "metadata": {},
   "outputs": [],
   "source": []
  }
 ],
 "metadata": {
  "kernelspec": {
   "display_name": "Python 3",
   "language": "python",
   "name": "python3"
  },
  "language_info": {
   "codemirror_mode": {
    "name": "ipython",
    "version": 3
   },
   "file_extension": ".py",
   "mimetype": "text/x-python",
   "name": "python",
   "nbconvert_exporter": "python",
   "pygments_lexer": "ipython3",
   "version": "3.7.4"
  }
 },
 "nbformat": 4,
 "nbformat_minor": 2
}
